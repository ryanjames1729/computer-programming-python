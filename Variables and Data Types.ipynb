{
 "cells": [
  {
   "cell_type": "markdown",
   "metadata": {},
   "source": [
    "# Variables and Data Types\n",
    "\n",
    "### Assignment of Variables\n",
    "You've already seen before how a variable can be assigned. Remember the ```input()``` function? Variable assignment always uses only 1 equal sign and the data flows from right to left. Think of the equal sign like an arrow. Look at the example below.\n",
    "\n",
    "```var = 3```\n",
    "var <- 3\n",
    "\n",
    "The code shown and the explanation below it are similar. When the code runs it sees that the 3 is being assigned to the variable that has been declared as **var**. In addition to this variables can be reassigned multiple times throughout a code segment.\n"
   ]
  },
  {
   "cell_type": "code",
   "execution_count": null,
   "metadata": {},
   "outputs": [],
   "source": [
    "a = 3\n",
    "b = 1\n",
    "a = b\n",
    "b = 4\n",
    "print(a)\n",
    "print(b)"
   ]
  },
  {
   "cell_type": "markdown",
   "metadata": {},
   "source": [
    "In this example, both variables **a** and **b** are reassigned and changed throughout the code segment. With this in mind, let's look at how variable information can be swapped.\n",
    "\n",
    "*The Swap Algorithm*\n",
    "You've been given a code segment below that is unfinished. Complete the code segment (without typing any numbers) that will swap the information stored in variable **a** and **b**.\n"
   ]
  },
  {
   "cell_type": "code",
   "execution_count": null,
   "metadata": {},
   "outputs": [],
   "source": [
    "a = 1\n",
    "b = 2.7\n",
    "print(\"Before the swap, a = {} and b = {}\".format(a,b))\n",
    "# Add your code here\n",
    "\n",
    "\n",
    "\n",
    "\n",
    "print(\"After the swap, a = {} and b = {}\".format(a,b))"
   ]
  },
  {
   "cell_type": "markdown",
   "metadata": {},
   "source": [
    "Something that you may not have noticed when working through that example is that Python does not care what type of information you store into a variable. You can swap the information of **a** and **b** even though they are different types of numbers. One of these numbers has a decimal and one does not, so that means that one of these numbers will have more information to store than the other number. \n",
    "\n",
    "### Data Types\n",
    "In programming there are common data types throughout and each programming language deals with these data types in different ways. For this course, you are learning how to create and use the data types using the Python programming language. This may change when you work with languages like JavaScript, Java, or C++.\n",
    "\n",
    "The following data types are the ones that you will be using in this course and in Python, they are referred to as primitive data types.\n",
    "- int which is short for integer\n",
    "- float which is short for floating type\n",
    "- String \n",
    "- Boolean which is either ```True``` or ```False```\n",
    "\n",
    "At first, the data type concept may seem trivial since Python abstracts this to a certain degree with variable assignment. The problem with data types happens when writing a code segment that combines the information from more than 1 type of data type. Let's look at an example that doesn't have any problems and then one that does have a problem.\n"
   ]
  },
  {
   "cell_type": "code",
   "execution_count": null,
   "metadata": {},
   "outputs": [],
   "source": [
    "a = 3.14\n",
    "b = -1\n",
    "b = a + b\n",
    "print(b)\n",
    "print(type(b))    # This line of code will show the data type of b"
   ]
  },
  {
   "cell_type": "markdown",
   "metadata": {},
   "source": [
    "The variable **b** is initially assigned the value -1 which is an int. At the end of the code segment, the data type has changed. What is the new data type for **b**?\n",
    "\n",
    "In the example that you just saw, the data types of the variables did not have any negative effects on the code running properly. But there are times where the data type will cause problems.\n"
   ]
  },
  {
   "cell_type": "code",
   "execution_count": null,
   "metadata": {},
   "outputs": [],
   "source": [
    "date = 13\n",
    "print(\"Beware of Friday the \" + date)"
   ]
  },
  {
   "cell_type": "markdown",
   "metadata": {},
   "source": [
    "Did you run the code segment? Whoah what was all that about?! What you saw there was your first error message. So take time, read through the error message and see what the problem is. Once you've thought about it, see if you can change the code segment to fix the problem. There are multiple ways to fix this issue.\n",
    "\n",
    "Probaby the most common data type issue will pop up when combining a String literal with another data type. The reason this happens is because when the code runs and it sees the addition symbol trying to combine different types of data it cannot figure out if you were asking it to sum up the information mathematically or if you were asking it to concatenate the information like creating a phrase or sentence. When dealing with this, there are 2 solutions that are equally correct.\n",
    "1. Cast (or change) the data type to a String using the ```str()`` function. Every data type has a function that you can cast one data type to that one. ```date = str(13)``` will cast the number 13 to the String literal \"13\".\n",
    "2. Use the enhanced formatting for Strings where the syntax is ```\"{}\".format(data)```. So its usage could be ```\"Y2K was about the year {}.\".format(2000)``` That will create the String literal \"Y2K was about the year 2000.\" \n"
   ]
  },
  {
   "cell_type": "code",
   "execution_count": null,
   "metadata": {},
   "outputs": [],
   "source": [
    "className = \"Computer Programming\"\n",
    "duration = 0.5\n",
    "# Add your print statement below where its output will be 'Computer Programming is a class that earns 0.5 semester credit.'\n"
   ]
  },
  {
   "cell_type": "markdown",
   "metadata": {},
   "source": [
    "What solution did you decide to use? Make sure that you can use both solutions to solve the problem shown above.\n"
   ]
  }
 ],
 "metadata": {
  "kernelspec": {
   "display_name": "Python 3",
   "language": "python",
   "name": "python3"
  },
  "language_info": {
   "codemirror_mode": {
    "name": "ipython",
    "version": 3
   },
   "file_extension": ".py",
   "mimetype": "text/x-python",
   "name": "python",
   "nbconvert_exporter": "python",
   "pygments_lexer": "ipython3",
   "version": "3.7.4"
  }
 },
 "nbformat": 4,
 "nbformat_minor": 4
}
