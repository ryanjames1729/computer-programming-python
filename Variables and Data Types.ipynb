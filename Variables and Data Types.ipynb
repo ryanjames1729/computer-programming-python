{
 "cells": [
  {
   "cell_type": "markdown",
   "metadata": {},
   "source": [
    "# Variables and Data Types\n",
    "\n",
    "### Assignment of Variables\n",
    "You've already seen before how a variable can be assigned. Remember the ```input()``` function? Variable assignment always uses only 1 equal sign and the data flows from right to left. Think of the equal sign like an arrow. Look at the example below.\n",
    "\n",
    "```var = 3```\n",
    "var <- 3\n",
    "\n",
    "The code shown and the explanation below it are similar. When the code runs it sees that the 3 is being assigned to the variable that has been declared as **var**. In addition to this variables can be reassigned multiple times throughout a code segment.\n"
   ]
  },
  {
   "cell_type": "code",
   "execution_count": null,
   "metadata": {},
   "outputs": [],
   "source": [
    "a = 3\n",
    "b = 1\n",
    "a = b\n",
    "b = 4\n",
    "print(a)\n",
    "print(b)"
   ]
  },
  {
   "cell_type": "markdown",
   "metadata": {},
   "source": [
    "In this example, both variables **a** and **b** are reassigned and changed throughout the code segment. With this in mind, let's look at how variable information can be swapped.\n",
    "\n",
    "*The Swap Algorithm*\n",
    "You've been given a code segment below that is unfinished. Complete the code segment (without typing any numbers) that will swap the information stored in variable **a** and **b**.\n"
   ]
  },
  {
   "cell_type": "code",
   "execution_count": null,
   "metadata": {},
   "outputs": [],
   "source": [
    "a = 1\n",
    "b = 2.7\n",
    "print(\"Before the swap, a = {} and b = {}\".format(a,b))\n",
    "# Add your code here\n",
    "\n",
    "\n",
    "\n",
    "\n",
    "print(\"After the swap, a = {} and b = {}\".format(a,b))"
   ]
  },
  {
   "cell_type": "markdown",
   "metadata": {},
   "source": [
    "Something that you may not have noticed when working through that example is that Python does not care what type of information you store into a variable. You can swap the information of **a** and **b** even though they are different types of numbers. One of these numbers has a decimal and one does not, so that means that one of these numbers will have more information to store than the other number. \n",
    "\n",
    "### Data Types\n",
    "In programming there are common data types throughout and each programming language deals with these data types in different ways. For this course, you are learning how to create and use the data types using the Python programming language. This may change when you work with languages like JavaScript, Java, or C++.\n",
    "\n",
    "The following data types are the ones that you will be using in this course and in Python, they are referred to as primitive data types.\n",
    "- int which is short for integer\n",
    "- float which is short for floating type\n",
    "- String \n",
    "- Boolean which is either ```True``` or ```False```\n",
    "\n",
    "At first, the data type concept may seem trivial since Python abstracts this to a certain degree with variable assignment. The problem with data types happens when writing a code segment that combines the information from more than 1 type of data type. Let's look at an example that doesn't have any problems and then one that does have a problem.\n"
   ]
  },
  {
   "cell_type": "code",
   "execution_count": null,
   "metadata": {},
   "outputs": [],
   "source": [
    "a = 3.14\n",
    "b = -1\n",
    "b = a + b\n",
    "print(b)\n",
    "print(type(b))    # This line of code will show the data type of b"
   ]
  },
  {
   "cell_type": "markdown",
   "metadata": {},
   "source": []
  }
 ],
 "metadata": {
  "kernelspec": {
   "display_name": "Python 3",
   "language": "python",
   "name": "python3"
  },
  "language_info": {
   "codemirror_mode": {
    "name": "ipython",
    "version": 3
   },
   "file_extension": ".py",
   "mimetype": "text/x-python",
   "name": "python",
   "nbconvert_exporter": "python",
   "pygments_lexer": "ipython3",
   "version": "3.7.4"
  }
 },
 "nbformat": 4,
 "nbformat_minor": 4
}
