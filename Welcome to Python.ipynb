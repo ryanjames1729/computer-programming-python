{
 "cells": [
  {
   "cell_type": "markdown",
   "metadata": {},
   "source": [
    "# Welcome to Python!\n",
    "\n",
    "### What is Python?\n",
    "Python is a text-based programming language that has been around since 1991. It has gone through several versions and updates and is currently on Python 3.8.5. With Python, just about any solution that requires programming can be found from creating games, scraping websites, machine learning algorithms, and building full-stack websites.\n",
    "\n",
    "There are several ways to create and run Python programs. Python programs are always saved with a .py extension. Here are a few ways of creating and running python programs in no particular order:\n",
    "- download IDLE from [Python](https://python.org/)\n",
    "- download [Atom](https://atom.io/) from GitHub \n",
    "- download [VS Code](https://code.visualstudio.com/) from Microsoft \n",
    "- use [Repl.it](https://repl.it/) online \n",
    "\n",
    "Enough talk about what Python is...let's get into creating some Python code!\n",
    "\n",
    "### Output in Python\n",
    "\n",
    "To print in Python you will use the ```print()``` command. This command is a function that accepts a parameter. This parameter can be a number value, textual content, a variable, or other types of data.\n"
   ]
  },
  {
   "cell_type": "code",
   "execution_count": null,
   "metadata": {},
   "outputs": [],
   "source": [
    "# Run this code to see what happens!\n",
    "print(\"Hello World!\")"
   ]
  },
  {
   "cell_type": "markdown",
   "metadata": {},
   "source": [
    "What happened when you ran the code segment shown above? Did you try to change the text in the output of the statement?\n",
    "\n",
    "\n",
    "Now that you've seen what output looks like. Let's try to create a variable and see how that changes the output statement.\n"
   ]
  },
  {
   "cell_type": "code",
   "execution_count": null,
   "metadata": {},
   "outputs": [],
   "source": [
    "var = 42        # This how a variable is created and assigned a value\n",
    "print(var)"
   ]
  },
  {
   "cell_type": "markdown",
   "metadata": {},
   "source": [
    "What happened with this code segment? What is different between printing a variable and printing a defined statement like ```\"Hello World!```?\n",
    "\n",
    "Next, you can see how a print statement can combine a defined statement like ```\"Hello \"``` and a variable. (By the way, the statement ```\"Hello ``` is referred to as a String literal due to the quotes around the text.)\n"
   ]
  },
  {
   "cell_type": "code",
   "execution_count": null,
   "metadata": {},
   "outputs": [],
   "source": [
    "var = \"Mr. James\"\n",
    "print(\"Hello \" + var)     # This code that combines two Strings (the quotes, remember?) is called concatenation"
   ]
  },
  {
   "cell_type": "markdown",
   "metadata": {},
   "source": [
    "Run the code above and try changing the var statement. Try to change the code segment so that it will have punctuation or add a third String literal.\n",
    "\n",
    "### Getting input into Python\n",
    "You can data into a program in Python using the ```input()``` function. This function will return a value so it must be assigned to a variable like ```var = input(\"Question here\")```.\n"
   ]
  },
  {
   "cell_type": "code",
   "execution_count": 1,
   "metadata": {},
   "outputs": [
    {
     "name": "stdout",
     "output_type": "stream",
     "text": [
      "Hello there, my name is Hal. What is your name? Ryan\n",
      "It's nice to meet you Ryan.\n"
     ]
    }
   ],
   "source": [
    "name = input(\"Hello there, my name is Hal. What is your name? \")\n",
    "print(\"It's nice to meet you \" + name + \".\")"
   ]
  },
  {
   "cell_type": "markdown",
   "metadata": {},
   "source": [
    "The syntax of the code segment above is very important. To use the ```input()``` function correctly, you must keep in mind the following concepts:\n",
    "1. ```input()``` has a return type, so it must be assigned to a variable\n",
    "2. The parameter for ```input()``` is similar to the ```print()``` function where its recommended to use a String literal to ask a question."
   ]
  }
 ],
 "metadata": {
  "kernelspec": {
   "display_name": "Python 3",
   "language": "python",
   "name": "python3"
  },
  "language_info": {
   "codemirror_mode": {
    "name": "ipython",
    "version": 3
   },
   "file_extension": ".py",
   "mimetype": "text/x-python",
   "name": "python",
   "nbconvert_exporter": "python",
   "pygments_lexer": "ipython3",
   "version": "3.7.4"
  }
 },
 "nbformat": 4,
 "nbformat_minor": 4
}
