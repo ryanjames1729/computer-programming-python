{
 "cells": [
  {
   "cell_type": "markdown",
   "metadata": {},
   "source": [
    "#Functions in Python\n",
    "\n",
    "Python like many other languages will use functions as a primary way to call code segments, keep a program organized, and provide another layer of abstraction for the programmer and the user. There are many built-in functions in Python which by now you have already used including but not limited to: ```print()```, ```input()```, ```int()```, and ```format()``` just to name a few.\n",
    "\n",
    "###How to call a function\n",
    "A function is called by writing the name of the function with the appropriate parameter. Look through the following examples to see how a function can be called. These are functions that do not return any values."
   ]
  },
  {
   "cell_type": "code",
   "execution_count": null,
   "metadata": {},
   "outputs": [],
   "source": [
    "print()            # This calls the print function no input or parameter\n",
    "print(\"truth\")     # This calls the print function with a single parameter"
   ]
  },
  {
   "cell_type": "code",
   "execution_count": null,
   "metadata": {},
   "outputs": [],
   "source": [
    "def printThis(str):   # This line and the one below it defines the function printThis\n",
    "    print(str)\n",
    "\n",
    "printThis(\"lies\")  # This calls the printThis function that is at the top"
   ]
  },
  {
   "cell_type": "markdown",
   "metadata": {},
   "source": [
    "Calling functions can seem pretty easy. One place to make sure that you double check when working with functions is check the parameters. Some functions require only 1 parameter so if more than one or no parameter is given, then there will be a syntax error. Look at the following code and the error message that will result when it is ran. What is the problem with the code?\n"
   ]
  },
  {
   "cell_type": "code",
   "execution_count": 1,
   "metadata": {},
   "outputs": [
    {
     "ename": "TypeError",
     "evalue": "abs() takes exactly one argument (2 given)",
     "output_type": "error",
     "traceback": [
      "\u001b[0;31m---------------------------------------------------------------------------\u001b[0m",
      "\u001b[0;31mTypeError\u001b[0m                                 Traceback (most recent call last)",
      "\u001b[0;32m<ipython-input-1-dab26a155398>\u001b[0m in \u001b[0;36m<module>\u001b[0;34m\u001b[0m\n\u001b[1;32m      1\u001b[0m \u001b[0mnumber\u001b[0m \u001b[0;34m=\u001b[0m \u001b[0mabs\u001b[0m\u001b[0;34m(\u001b[0m\u001b[0;34m-\u001b[0m\u001b[0;36m1\u001b[0m\u001b[0;34m)\u001b[0m\u001b[0;34m\u001b[0m\u001b[0;34m\u001b[0m\u001b[0m\n\u001b[0;32m----> 2\u001b[0;31m \u001b[0mnumber\u001b[0m \u001b[0;34m=\u001b[0m \u001b[0mabs\u001b[0m\u001b[0;34m(\u001b[0m\u001b[0;34m-\u001b[0m\u001b[0;36m1\u001b[0m\u001b[0;34m,\u001b[0m\u001b[0;36m2\u001b[0m\u001b[0;34m)\u001b[0m\u001b[0;34m\u001b[0m\u001b[0;34m\u001b[0m\u001b[0m\n\u001b[0m",
      "\u001b[0;31mTypeError\u001b[0m: abs() takes exactly one argument (2 given)"
     ]
    }
   ],
   "source": [
    "number = abs(-1)\n",
    "number = abs(-1,2)"
   ]
  },
  {
   "cell_type": "markdown",
   "metadata": {},
   "source": [
    "###How to Create a Function\n",
    "The syntax for a function is: ```def functionName(parameters for input):```. The lines after a function must be tabbed 1 time to the right to be included as part of the function (similar to loops and conditional statements). If a function is expected to have an output, then use the ```return``` command.\n",
    "\n",
    "First, let's look at the simplest function. This function will not have any parameters or a return statement.\n"
   ]
  },
  {
   "cell_type": "code",
   "execution_count": null,
   "metadata": {},
   "outputs": [],
   "source": [
    "def greeting():\n",
    "    print(\"Hello there, always a pleasure.\")\n",
    "\n",
    "greeting()"
   ]
  },
  {
   "cell_type": "markdown",
   "metadata": {},
   "source": [
    "The function ```greeting()``` will always do the same thing every time it is ran. It will execute the print statement and thats it. One small detail that is not obvious is the order of the program segment. A definition or function must always be declared before it is used. Notice that the function is created on lines 1 and 2, but not used till line 4. You cannot call or use a function before it has been declared.\n",
    "\n",
    "Next, let's see how this function can change. Let's give it a parameter.\n"
   ]
  },
  {
   "cell_type": "code",
   "execution_count": 2,
   "metadata": {},
   "outputs": [
    {
     "name": "stdout",
     "output_type": "stream",
     "text": [
      "Player1 is it? Well nice to make your acquaintance.\n"
     ]
    },
    {
     "ename": "NameError",
     "evalue": "name 'name' is not defined",
     "output_type": "error",
     "traceback": [
      "\u001b[0;31m---------------------------------------------------------------------------\u001b[0m",
      "\u001b[0;31mNameError\u001b[0m                                 Traceback (most recent call last)",
      "\u001b[0;32m<ipython-input-2-f4e144cf1e96>\u001b[0m in \u001b[0;36m<module>\u001b[0;34m\u001b[0m\n\u001b[1;32m      3\u001b[0m \u001b[0;34m\u001b[0m\u001b[0m\n\u001b[1;32m      4\u001b[0m \u001b[0mgreeting\u001b[0m\u001b[0;34m(\u001b[0m\u001b[0;34m\"Player1\"\u001b[0m\u001b[0;34m)\u001b[0m\u001b[0;34m\u001b[0m\u001b[0;34m\u001b[0m\u001b[0m\n\u001b[0;32m----> 5\u001b[0;31m \u001b[0mprint\u001b[0m\u001b[0;34m(\u001b[0m\u001b[0mname\u001b[0m\u001b[0;34m)\u001b[0m\u001b[0;34m\u001b[0m\u001b[0;34m\u001b[0m\u001b[0m\n\u001b[0m",
      "\u001b[0;31mNameError\u001b[0m: name 'name' is not defined"
     ]
    }
   ],
   "source": [
    "def greeting(name):\n",
    "    print(name + \" is it? Well nice to make your acquaintance.\")\n",
    "\n",
    "greeting(\"Player1\")"
   ]
  },
  {
   "cell_type": "markdown",
   "metadata": {},
   "source": [
    "In the example above, there are a few things going on. Notice that there is never a variable created that contains the information ```\"Player1\"```. It is passed into the function and the function assigns a new variable, ```name```, that is holding the data ```\"Player1\"```. Then the print statement is executed and the variable ```name``` is erased from memory. This kind of variable is called a local variable. If you want to have access to any variable outside of the function it must be declared as global.\n",
    "\n",
    "The following updated version uses a global variable.\n"
   ]
  },
  {
   "cell_type": "code",
   "execution_count": 3,
   "metadata": {},
   "outputs": [
    {
     "name": "stdout",
     "output_type": "stream",
     "text": [
      "Player1 is it? Well nice to make your acquaintance.\n"
     ]
    }
   ],
   "source": [
    "myName = \"Player1\"\n",
    "\n",
    "def greeting(name):\n",
    "    global myName\n",
    "    name = myName\n",
    "    print(name + \" is it? Well nice to make your acquaintance.\")\n",
    "\n",
    "greeting(\"name here\")"
   ]
  },
  {
   "cell_type": "markdown",
   "metadata": {},
   "source": [
    "The code segment above goes through a few things. So what happens inside the function? The first thing that happens when ```greeting()``` is called, is that ```name``` is set to the value passed to it: ```\"name here\"```. Then the variable ```myName``` is given global access so it can be used inside the function. Then ```name``` is set equal to the variable ```myName``` which is why the output looks the way it did.\n",
    "\n",
    "So far, we have seen how data can get into a function, one as a passing it through a parameter and one as using a global variable. It is better practice to use parameters unless the global variable needs to change as a result of running the function.\n",
    "\n",
    "One thing that is also important to know is how to get data out of a function or have a function return information. To do in Python, you have to use the ```return``` command.\n"
   ]
  },
  {
   "cell_type": "code",
   "execution_count": null,
   "metadata": {},
   "outputs": [],
   "source": [
    "def greeting(name):\n",
    "    output = name + \" is ? Well nice to make your acquaintance.\"\n",
    "    return output\n",
    "\n",
    "myGreeting = greeting(\"Player1\")\n",
    "print(myGreeting)"
   ]
  },
  {
   "cell_type": "markdown",
   "metadata": {},
   "source": [
    "One thing to note is that when a function returns data, it will not do anything by just calling the function. It needs to be inside an output statement or as was done in the previous example, assinged to a variable. In this example, the function creates a new String for the output and this information gets assinged to the variable ```myGreeting```. Once this gets assigned, the print statement will display the output of the function. It should be noted that the last 2 lines of the code segment could be combined into one line of code as ```print(greeting(\"Player1\"))```.\n",
    "\n",
    "#Using a Helper Function\n",
    "One more thing that is useful to know about functions is that functions can call other functions. If a function is used only inside of a bigger or outside function, then that is called using a helper function.\n"
   ]
  },
  {
   "cell_type": "code",
   "execution_count": 4,
   "metadata": {},
   "outputs": [
    {
     "name": "stdout",
     "output_type": "stream",
     "text": [
      "-1.0\n"
     ]
    }
   ],
   "source": [
    "def returnDeterminant(a, b, c):\n",
    "    det = b*b - 4*a*c\n",
    "    return det\n",
    "\n",
    "def findRoots(a, b, c):\n",
    "    det = returnDeterminant(a,b,c)\n",
    "    root = (-b + pow(det, 0.5))/2\n",
    "    return root\n",
    "\n",
    "positiveRoot = findRoots(1,2,1)\n",
    "print(positiveRoot)\n",
    "    "
   ]
  },
  {
   "cell_type": "markdown",
   "metadata": {},
   "source": [
    "In this example, notice there are 2 functions. One function uses the other function. the function ```findRoots()``` uses the function ```returnDeterminant()``` to carry out its intended purpose. This makes the function ```returnDeterminant()``` the helper function since it is only being used to help the ```findRoots()``` function.\n",
    "\n",
    "Helper functions are really useful when creating more complex probg"
   ]
  }
 ],
 "metadata": {
  "kernelspec": {
   "display_name": "Python 3",
   "language": "python",
   "name": "python3"
  },
  "language_info": {
   "codemirror_mode": {
    "name": "ipython",
    "version": 3
   },
   "file_extension": ".py",
   "mimetype": "text/x-python",
   "name": "python",
   "nbconvert_exporter": "python",
   "pygments_lexer": "ipython3",
   "version": "3.8.5"
  }
 },
 "nbformat": 4,
 "nbformat_minor": 4
}
