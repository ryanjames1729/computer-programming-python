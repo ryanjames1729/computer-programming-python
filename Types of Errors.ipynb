{
 "cells": [
  {
   "cell_type": "markdown",
   "metadata": {},
   "source": [
    "#Types of Errors\n",
    "There are multiple reasons that a program may or may not run the way that it was intended to run from the programmers point of view. It can always be frustrating when this happens especially if it was unexpected and you cannot locate the exact issue as to why the program did not run as expected. Programming errors or bugs can be grouped into 3 different categories:\n",
    "-Logic Errors\n",
    "-Syntax Errors\n",
    "-Runtime Errors\n",
    "\n",
    "###Logic Errors\n",
    "Logic errors are the ones that may even exist before any code is written. A logic error will occur when there is a problem with the instructions or the algorithm that is being attempted. The program may run and not stop running, but the intended output of the program will not be visible with the output of the program.\n"
   ]
  },
  {
   "cell_type": "code",
   "execution_count": null,
   "metadata": {
    "scrolled": true
   },
   "outputs": [],
   "source": [
    "# Find all the prime numbers less than 21\n",
    "p = 2\n",
    "while p < 21:\n",
    "    prime = True\n",
    "    for i in range(1,p):     # loop from i = 1 to i = p-1\n",
    "        if p % i == 0:\n",
    "            prime = False\n",
    "    if prime:\n",
    "        print(p)\n",
    "    p = p + 1"
   ]
  },
  {
   "cell_type": "markdown",
   "metadata": {},
   "source": [
    "What's going on with the program shown above? Can you figure out what makes the program not work as intended?\n",
    "\n",
    "The program segment shown above was to find all prime numbers that less than 21, so the output of the program should be the numbers: 2, 3, 5, 7, 9, 11, 13, 17, 19 -- but this is not what is happening. There are no other programming errors present, becuase the program does run, it just doesn't yield the epxected output. This is an example of a Logic Error.\n",
    "\n",
    "Logic Errors can always be traced back to flowcharting or psuedocode for a problem. Every program should have some kind of notes written down about the problem that the program is attempting to solve. Most logic errors will surface during this process of planning out a program. If a logic error is present in a flowchart or psuedocode, it will much easier to fix since there will. not be other issues that are dependent on the programming language.\n",
    "\n",
    "###Syntax Errors\n",
    "A syntax error is when there is a programming statement that conflicts with the syntax of the programming language. There are numerous programming languages and every programming language has its own set of syntax rules that the programmer must follow. \n",
    "\n",
    "It's almost impossible to memorize every syntax rule for the Python programming language or any programming language for that matter, but there are a few principles to guide you.\n",
    "-Avoid using reserved keywords for variable names. Some of the reserved keywords in Python are `print`, `if`, `for`, etc.\n",
    "-Pay careful attention to formatting. Every conditional statement with an `if` should have a colon at the end and the next line shoud have 1 tab to 'wrap' the code inside the condtional statement. The same is true for any loop that is using the `for` loop or `while` loop.\n",
    "-Open characters should have closing characters. Every opening parentheses should have a closing parentheses to match it. The same is true for every quotation mark whether its a double quotation mark `\"` or a single quotation mark `'`.\n",
    "\n",
    "###Runtime Errors\n",
    "It hasn't been discussed much until this point, but Python is called a scripting language. Scripting languages always work this way: the programmer will create a file with the program instructions, called the script. The script is then ran by the computer where the computer will either give the output or an error message that is associated with the script. By this flow of programming, the programmer will never see an error message until they run the program code that they created which can cause frustration.\n",
    "\n",
    "To figure out the solution to a runtime error, it is important to always look at the output and/or error message that is shwon by the computer when the program is ran. By being able to read the output and error messages appropriately, then the runtime errors can be fixed correctly.\n"
   ]
  },
  {
   "cell_type": "code",
   "execution_count": null,
   "metadata": {},
   "outputs": [],
   "source": [
    "# Add up all the numbers from 1 to 10\n",
    "sum = 0\n",
    "number = 1\n",
    "while number < 10:\n",
    "    sum = sum + number\n",
    "    number = number + 1\n",
    "print(sum)    # sum should display 55"
   ]
  },
  {
   "cell_type": "markdown",
   "metadata": {},
   "source": [
    "Run the code that is shown above. There is an error in the code because the output is not as intended. Fix the error and write a comment that indicates the type of error.\n"
   ]
  },
  {
   "cell_type": "code",
   "execution_count": null,
   "metadata": {},
   "outputs": [],
   "source": [
    "# Determine if the color is red or blue.\n",
    "color = \"blue\"\n",
    "if color == \"blue\":\n",
    "    print(\"Color is blue!\")\n",
    "if color = \"red\":\n",
    "    print(\"Color is red!\")"
   ]
  },
  {
   "cell_type": "markdown",
   "metadata": {},
   "source": [
    "Run the code that is shown above. There is an error in the code because the output is not as intended. Fix the error and write a comment that indicates the type of error.\n"
   ]
  },
  {
   "cell_type": "code",
   "execution_count": null,
   "metadata": {},
   "outputs": [],
   "source": [
    "from random import randint\n",
    "\n",
    "# Find the average test grade for a progress report\n",
    "gradeSum = 0\n",
    "gradeCount = 0\n",
    "for i in range(5):\n",
    "    gradeSum = gradeSum + randint(60,100)\n",
    "    gradeCount = gradeCount + 1\n",
    "print(gradeSum / gradeCount)       # Number should be an integer"
   ]
  },
  {
   "cell_type": "markdown",
   "metadata": {},
   "source": [
    "Run the code that is shown above. There is an error in the code because the output is not as intended. Fix the error and write a comment that indicates the type of error.\n"
   ]
  }
 ],
 "metadata": {
  "kernelspec": {
   "display_name": "Python 3",
   "language": "python",
   "name": "python3"
  },
  "language_info": {
   "codemirror_mode": {
    "name": "ipython",
    "version": 3
   },
   "file_extension": ".py",
   "mimetype": "text/x-python",
   "name": "python",
   "nbconvert_exporter": "python",
   "pygments_lexer": "ipython3",
   "version": "3.8.5"
  }
 },
 "nbformat": 4,
 "nbformat_minor": 4
}
