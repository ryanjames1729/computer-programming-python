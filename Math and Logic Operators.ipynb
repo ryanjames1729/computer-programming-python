{
 "cells": [
  {
   "cell_type": "markdown",
   "metadata": {},
   "source": [
    "# Math and Logic Operators\n",
    "In Python, as well as other langauges, there are different reserved symbols for the math and logic operator to change the variable assignment of a program. These operators are essential to any program using math and/or logic which will encompass many or your programs. When trying to debug a program, make sure that you pay attention to the math and logic in the program and you may need to keep this page of your notebook handy at the beginning when still trying to step through your errors.\n",
    "\n",
    "### Math Operators\n",
    "There are a lot of math operations that can be accomplished using Python. Actually, that's one reason for its recent rise in programming. With the need for ML and AI applications, Python has been a goto language for many people due to its ease of use in creating solutions which require a heavy amount of mathematical calculation. Through this, you'll learn that there are math operators and math functions from the math class. These are 2 different things and you should be aware of those differences.\n",
    "\n",
    "The math operators in Python that you should be aware of are:\n",
    "- ```a + b``` : addition of two numbers\n",
    "- ```a - b``` : subtraction of two numbers\n",
    "- ```a * b``` : multiplication of two numbers\n",
    "- ```a / b``` : division of two numbers, decimals are kept\n",
    "- ```a % b``` : modulus division of two numbers, returns the remainder\n",
    "- ```a ** b``` : exponents in the format $a^b$\n",
    "- ```a // b``` : division of two numbers, throws away the decimal for ints"
   ]
  },
  {
   "cell_type": "code",
   "execution_count": null,
   "metadata": {},
   "outputs": [],
   "source": [
    "a = 10\n",
    "b = 3\n",
    "print(a + b)\n",
    "print(a - b)\n",
    "print(a * b)\n",
    "print(a / b)\n",
    "print(a % b)\n",
    "print(b ** a)\n",
    "print(a // b)"
   ]
  },
  {
   "cell_type": "markdown",
   "metadata": {},
   "source": [
    "Using the code segment shown above, change the variables to different numbers 3 different times and run the code each time so that you can get an understadning about each of the operators. Did anything surprise you about he operators?\n",
    "\n",
    "*Applications of Modulus*\n",
    "The modulus operator may seem trivial and like you'll never need a use for it. What about checking if a number is even or odd? In mathematics, an even number can be created by multiplying any number by 2 - so therefore every even number is divisible by 2. When a number is divisible by 2 that means that its remainder by dividing by 2 will always be zero. \n"
   ]
  },
  {
   "cell_type": "code",
   "execution_count": null,
   "metadata": {},
   "outputs": [],
   "source": [
    "myNumber = 4\n",
    "if myNumber % 2 == 0:\n",
    "    print(\"Your number is even!\")\n",
    "else:\n",
    "    print(\"Your number is odd!\")"
   ]
  },
  {
   "cell_type": "markdown",
   "metadata": {},
   "source": [
    "There is some code in the code segment shown above that you haven't seen before, but can identify what part of the code is checking for the even-ness (is that even a word?) of the number?\n",
    "\n",
    "Time for Fizz Buzz! Fizz Buzz is a classic programming problem: Write a code segment that will print out all the numbers from 1 to 100 using the conditions:\n",
    "- if the number is divisible by 3, print \"Fizz\"\n",
    "- if the number is divisible by 5, print \"Buzz\"\n",
    "- if the number is divisible by 3 and 5, print \"FizzBuzz\"\n",
    "- if none of these are true, print the number\n"
   ]
  },
  {
   "cell_type": "code",
   "execution_count": null,
   "metadata": {},
   "outputs": [],
   "source": [
    "# FizzBuzz Problem\n",
    "number = 1\n",
    "while number <= 100:\n",
    "    # Add your code here\n",
    "    \n",
    "\n",
    "    \n",
    "    number = number + 1"
   ]
  },
  {
   "cell_type": "markdown",
   "metadata": {},
   "source": [
    "Well that was fun, but time to change directions a bit. Another way of using Python to make math calcuations is to use the math class that is in Python. It is not realistic for you to know every math operation but you are going to be exposed to a few of the operations. A full list of the math operations can be found in the [Python documentation](https://docs.python.org/3/library/math.html). Here is a brief list of some of the highlights:\n",
    "- ```math.fabs()```        Returns the absolute value\n",
    "- ```math.factorial()```   Returns the factorial\n",
    "- ```math.log()```         Returns the log, base can be specified\n",
    "- ```math.exp()```         Returns the exponential, base and power\n",
    "- ```math.sqrt()```        Returns the square root\n",
    "- ```math.sin()```         Returns the sine, other trig functions exist too\n",
    "\n",
    "### Logic Operators\n",
    "In addition to using the various math operators that are above, a program's complexity and flexibility can be enhanced by using logic operators. Logic operators refer to the commands in a program that allow for decision making to happen. A logic statement in programming will only evaluate to ```True``` or ```False```. In programming, there are 5 operators that used to test for the comparison of numbers:\n",
    "- ```a < b```    Is a less than b?\n",
    "- ```a <= b```   Is a less than or equal to b?\n",
    "- ```a > b```    Is a greater than b?\n",
    "- ```a >= b```   Is a greater than or equal to b?\n",
    "- ```a == b```   Is a equal to b?\n",
    "\n",
    "In addition to this, there are 3 more operators that can change the logic of a statement:\n",
    "- ```not a```   Flips the value of a\n",
    "- ```a and b``` Returns True if a and b are both True and False otherwise\n",
    "- ```a or b```  Returns True if either a or b are True and False if both are False\n",
    "\\*The 3 operators shown above assume that the variables **a** and **b** are both Boolean data types.\n"
   ]
  },
  {
   "cell_type": "code",
   "execution_count": 2,
   "metadata": {},
   "outputs": [
    {
     "name": "stdout",
     "output_type": "stream",
     "text": [
      "True\n",
      "False\n",
      "True\n"
     ]
    }
   ],
   "source": [
    "a = (16 < 5)\n",
    "b = (-1 == 0)\n",
    "\n",
    "print(not a)\n",
    "print(a and b)\n",
    "print(not(a or b))"
   ]
  },
  {
   "cell_type": "markdown",
   "metadata": {},
   "source": [
    "Look at the code segment that is shown above. When it is ran, the outputs are all different. Try to change the numbers that in the inequalities for **a** and **b** and see if you can get all of the outputs to show as True. What did you have to change to make that happen?\n"
   ]
  }
 ],
 "metadata": {
  "kernelspec": {
   "display_name": "Python 3",
   "language": "python",
   "name": "python3"
  },
  "language_info": {
   "codemirror_mode": {
    "name": "ipython",
    "version": 3
   },
   "file_extension": ".py",
   "mimetype": "text/x-python",
   "name": "python",
   "nbconvert_exporter": "python",
   "pygments_lexer": "ipython3",
   "version": "3.7.4"
  }
 },
 "nbformat": 4,
 "nbformat_minor": 4
}
