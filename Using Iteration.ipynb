{
 "cells": [
  {
   "cell_type": "markdown",
   "metadata": {},
   "source": [
    "#Using Iteration\n",
    "Iteration is the programming concept associated with repeats or loops. Anytime a simple process is needed to repeat itself, then a loop would need to be used. For example, if a program needs to count the number of times an action has occurred, or to search for a specific type of data, or to keep the program running until the user decides it's time for the program to stop running, the programmer will want to use a loop in the program.\n",
    "\n",
    "Let's take a look at how a count could be placed in a program in 2 different ways:\n"
   ]
  },
  {
   "cell_type": "code",
   "execution_count": null,
   "metadata": {},
   "outputs": [],
   "source": [
    "count = 1\n",
    "while count <= 10:\n",
    "    print(count)\n",
    "    count = count + 1\n",
    "\n",
    "print()\n",
    "print()\n",
    "for i in range(1,11):\n",
    "    print(i)"
   ]
  },
  {
   "cell_type": "markdown",
   "metadata": {},
   "source": [
    "Did you run the code shown above? When the program is ran, the same output will be displayed. The first code segment takes 4 lines of code and the second code segment only takes 2 lines of code. So is one better than the other? To be fair, there is not one that is better. All algorithms that require iteration can be expressed using while loops and for loops. They differ by the fact that a while loop uses a variable outside the loop and a for loop creates a temp variable (in this example `i`) that will be erased from memory after the loop is done running. \n",
    "\n",
    "###'for' Loops\n",
    "In python, one way of having a code segment repeat itself is to use the `for` loop. The syntax for this kind of loop is very specific and there are 2 ways to use this loop:\n",
    "-`for c in range(numberOfTimesToRepeat)`: this assigns `c` to zero and counts up by 1s to `numberOfTimesToRepeat` - 1, then exits the loop\n",
    "-`for c in range(start, stop)`: this assigns `c` to `start` and counts up by 1s to `stop` - 1, then exits the loop\n",
    "\n",
    "Look over the following loops and run them to get more of an idea of how a `for` loop works\n"
   ]
  },
  {
   "cell_type": "code",
   "execution_count": null,
   "metadata": {},
   "outputs": [],
   "source": [
    "for i in range(3):\n",
    "    print(i)"
   ]
  },
  {
   "cell_type": "code",
   "execution_count": null,
   "metadata": {},
   "outputs": [],
   "source": [
    "for i in range(1,4):\n",
    "    print(i)"
   ]
  },
  {
   "cell_type": "code",
   "execution_count": null,
   "metadata": {},
   "outputs": [],
   "source": [
    "for i in range(5):\n",
    "    print(i*3)"
   ]
  },
  {
   "cell_type": "code",
   "execution_count": null,
   "metadata": {},
   "outputs": [],
   "source": [
    "for i in range (1,6):\n",
    "    print(i*3)"
   ]
  },
  {
   "cell_type": "markdown",
   "metadata": {},
   "source": [
    "###`while` Loops\n",
    "As stated before, a programmer can use either of the loops and achieve the same purpose. The syntax for using a `while` loop should feel very familiar as it is almost the same as a conditional statement. The loop will keep on repeating itself as long as the condition is true. That being said, don't write a `while` loop that never exits! The program will keep running the loop until the user force quits the program or the computer runs out of memory to keep running the program. One important part of using a `while` loop is that the program must have a variable defined for the conditional statement prior to starting the loop. The following code segment is an example of how a program will have an error if this is not true.\n"
   ]
  },
  {
   "cell_type": "code",
   "execution_count": null,
   "metadata": {},
   "outputs": [],
   "source": [
    "while n > 0:\n",
    "    print(n)"
   ]
  },
  {
   "cell_type": "raw",
   "metadata": {},
   "source": [
    "To fix this problem, just create the variable `n` and change it inside the loop so that the loop will keep running.\n"
   ]
  },
  {
   "cell_type": "code",
   "execution_count": null,
   "metadata": {},
   "outputs": [],
   "source": [
    "n = 3\n",
    "while n > 0:\n",
    "    print(n)\n",
    "    n = n - 1"
   ]
  },
  {
   "cell_type": "markdown",
   "metadata": {},
   "source": [
    "Let's look at a few loops that use the `while` loop to get a better idea of the syntax and functionality of the loop.\n"
   ]
  },
  {
   "cell_type": "code",
   "execution_count": null,
   "metadata": {},
   "outputs": [],
   "source": [
    "n = 1\n",
    "while n < 3:\n",
    "    print(n)\n",
    "    n = n + 1"
   ]
  },
  {
   "cell_type": "code",
   "execution_count": null,
   "metadata": {},
   "outputs": [],
   "source": [
    "n = 43\n",
    "d = n - 1\n",
    "prime = True\n",
    "while d > 2 and prime:\n",
    "    if n % d == 0:\n",
    "        prime = False\n",
    "    d = d - 1\n",
    "print(prime)"
   ]
  },
  {
   "cell_type": "markdown",
   "metadata": {},
   "source": [
    "Ok, so now that you know how loops can work, let's try to create an algorithm that will reverse a String. This algorithm will require the use of loops and it can be done with a `while` loop or a `for` loop. To check to make sure it's correct, the substring command `word[::-1]` will reverse a String that has been stored into the variable `word`.\n"
   ]
  },
  {
   "cell_type": "code",
   "execution_count": null,
   "metadata": {},
   "outputs": [],
   "source": [
    "word = \"string\"\n",
    "\n",
    "forReverse = \"\"\n",
    "whileReverse = \"\"\n",
    "length = len(word)\n",
    "\n",
    "for i in range(length):\n",
    "    forReverse = word[i:i+1] + forReverse\n",
    "\n",
    "index = 0\n",
    "while index < length:\n",
    "    whileReverse = word[index:index+1] + whileReverse\n",
    "    index = index + 1\n",
    "\n",
    "print(word[::-1])\n",
    "print(forReverse)\n",
    "print(whileReverse)"
   ]
  },
  {
   "cell_type": "code",
   "execution_count": null,
   "metadata": {},
   "outputs": [],
   "source": []
  }
 ],
 "metadata": {
  "kernelspec": {
   "display_name": "Python 3",
   "language": "python",
   "name": "python3"
  },
  "language_info": {
   "codemirror_mode": {
    "name": "ipython",
    "version": 3
   },
   "file_extension": ".py",
   "mimetype": "text/x-python",
   "name": "python",
   "nbconvert_exporter": "python",
   "pygments_lexer": "ipython3",
   "version": "3.8.5"
  }
 },
 "nbformat": 4,
 "nbformat_minor": 4
}
