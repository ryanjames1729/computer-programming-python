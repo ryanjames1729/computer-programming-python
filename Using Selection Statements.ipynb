{
 "cells": [
  {
   "cell_type": "markdown",
   "metadata": {},
   "source": [
    "#Selection Statements with If, Else, and Elif\n",
    "In programming, the concept of a selection statement is very common so it is very important to understanding how to read and how to write selection statements. There are a few different types of selections statements that you will need to know how to use:\n",
    "-`if`\n",
    "-`else`\n",
    "-`elif` (also known as else if)\n",
    "\n",
    "With each of these selection statements the program flow can be changed when the user of the program enters data into the program. It will make a program more dynamic and so that specific outcomes of the program do not have to be 'hard coded' for it to run smoothly and correctly.\n",
    "\n",
    "###Using the `if` Keyword\n",
    "In Python, like most languages, the if is used. The statement looks at the Boolean statement following the keyword and determines if it is True or False. If it is True, then the rest of the code runs. If not, it will simply skip over the rest of the statement. You can always tell what is part of the if by looking at the tabbing. The 'inside' of the if statement is always tabbed over.\n"
   ]
  },
  {
   "cell_type": "code",
   "execution_count": null,
   "metadata": {},
   "outputs": [],
   "source": [
    "num = 2\n",
    "if num > 0:\n",
    "    print(\"This line of code runs since 'num' is greater than 0.\")\n",
    "print(\"-End of code statement-\")"
   ]
  },
  {
   "cell_type": "markdown",
   "metadata": {},
   "source": [
    "In the code statement that is shown above, try changing the state of the variable to a new number so that the line of code does not run that is part of the `if` statement.\n",
    "\n",
    "Now look at the next conditional statement. This is an example of a nested `if` statement becuase there is one `if` statement inside of another `if` statement.\n"
   ]
  },
  {
   "cell_type": "code",
   "execution_count": null,
   "metadata": {},
   "outputs": [],
   "source": [
    "num = 2\n",
    "if num > 0:\n",
    "    print(\"The number is positive.\")\n",
    "    if num % 2 == 0:\n",
    "        print(\"The number is even.\")\n",
    "    print(\"-End of the inside if-\")\n",
    "print(\"-End of the outside if-\")"
   ]
  },
  {
   "cell_type": "markdown",
   "metadata": {},
   "source": [
    "Nested if statements get really hard to read when there are multiple levels or layers of the `if` statement. Look over the following code shown below. Is it the same as what was written above?\n"
   ]
  },
  {
   "cell_type": "code",
   "execution_count": null,
   "metadata": {},
   "outputs": [],
   "source": [
    "num = 2\n",
    "if num > 0 and num % 2 == 0:\n",
    "    print(\"The number is positive.\")\n",
    "    print(\"The number is even.\")\n",
    "print(\"-End of the if-\")"
   ]
  },
  {
   "cell_type": "markdown",
   "metadata": {},
   "source": [
    "The outcome of the code is the same but the outcome will change when the value of `num` is changed in each of the program code statements. The first one with the nested statements will check if its positive and even separately; this will determine if a number is positive and/or even. The second one with the `and` statement tries to determine if the number is both positive and even. Each of these kind of program statements will have their pros and cons and really depends on the type of program that you're creating that will determine which program statement to use.\n",
    "\n",
    "### Using an `else` with an `if`\n",
    "The statement above can be extended to act like a coin flip decision. In that scenario, it's going to be one way or another just like a coin flip is either heads or tails. The keyword that you'll add is the else keyword.\n",
    "\n",
    "Let's revisit the first example where the number was being checked if it was greater than zero. This time it's going to be checked if it's greater than 5.\n"
   ]
  },
  {
   "cell_type": "code",
   "execution_count": null,
   "metadata": {},
   "outputs": [],
   "source": [
    "num = 2\n",
    "if num > 5:\n",
    "    print(\"This code will not execute.\")\n",
    "else:\n",
    "    print(\"This code will execute since num is NOT greater than 5.\")"
   ]
  },
  {
   "cell_type": "markdown",
   "metadata": {},
   "source": [
    "This time the `if` statement does not run since the condition in the statement evaluates to `False`. Since there is an `else` linked with the `if` statement, that statement will execute instead.\n",
    "\n",
    "Let's back up a bit and talk about this 'link' idea with an `if` and `else`. How do you know if the 2 statements are linked? What happens when they are not linked? How do you keep from having syntax or logic errors? Ok, so there' a lot in there. Looking at the block of code that was just used, there are 5 lines of code with the variable declaration on Line 1. Lines 2 and 4 are 'linked' because they are both aligned with each other and there are no other statements that are in between them. Lines 2 and 3 really act as one statement and Lines 4 and 5 really act as a second statement. \n"
   ]
  },
  {
   "cell_type": "code",
   "execution_count": null,
   "metadata": {},
   "outputs": [],
   "source": [
    "num = 6\n",
    "if num > 5:\n",
    "    print(\"This code only runs if the variable is greater than 5.\")\n",
    "if num == 0:\n",
    "    print(\"The number is 0 and that's why this runs.\")\n",
    "else:\n",
    "    print(\"This code will execute since num is NOT greater than 5.\")"
   ]
  },
  {
   "cell_type": "markdown",
   "metadata": {},
   "source": [
    "Notice when this code runs, the last line of code runs which it should. But what happens when the variable declaration is changed to 6? Well now you get a logic error because the outcome of the code is not what you expected. Let's look at the problem. On Lines 2 and 3, that is one `if` statement that acts as itself. Lines 4 and 5 contain the second `if` statement which is 'linked' with the `else` statement that is contained in Lines 6 and 7. Now the problem is, how is this resolved?\n",
    "\n",
    "###Using the `elif` Statement\n",
    "One thing that should be noted in the examples above is that following the else keyword, there isn't a condition that follows it. The else statement will execute whenever the if statement above it does not execute due to it's condition being False. There is a way to create a condition for the else though, and that's to use an elif statement. The keyword elif is short for 'else if'.\n"
   ]
  },
  {
   "cell_type": "code",
   "execution_count": null,
   "metadata": {},
   "outputs": [],
   "source": [
    "num = 2\n",
    "if num > 10:\n",
    "   print(\"This will not execute.\")\n",
    "elif num > 5:\n",
    "   print(\"This code will not execute.\")\n",
    "else:\n",
    "   print(\"This code will execute since num is NOT greater than 10 AND NOT greater than 5.\")"
   ]
  },
  {
   "cell_type": "markdown",
   "metadata": {},
   "source": [
    "In the example shown above, the entire statement acts as one decision making statement. Since the middle statement is an elif statement, it will tie together the if statement at the top and the else statement at the bottom.\n",
    "\n",
    "When using the `elif`, this will make it so that only 1 statement will execute. Looking at the previous example, there are 3 statements. First there is the `if` statement that is contained on Lines 2 and 3. Then there is the second statement with the `elif` on likes 4 and 5. The third statement is on Lines 6 and 7. When the `elif` connects it all together, Lines 2 - 7 will act as one decision making block where only 1 thing will ever print. The value for `num` can be changed to anything and still only 1 print statement wille execute. The beauty of using the `elif` command is that there is no limit to using it. The `elif` can be used multiple times. The example below is trivial but just to show how it can be used over and over again."
   ]
  },
  {
   "cell_type": "code",
   "execution_count": null,
   "metadata": {},
   "outputs": [],
   "source": [
    "var = input(\"Type an integer from 1 to 5.>\")\n",
    "var = int(var)\n",
    "if var == 1:\n",
    "    print(\"You typed 1.\")\n",
    "elif var == 2:\n",
    "    print(\"You typed 2.\")\n",
    "elif var == 3:\n",
    "    print(\"You typed 3.\")\n",
    "elif var == 4:\n",
    "    print(\"You typed 4.\")\n",
    "elif var == 5:\n",
    "    print(\"You typed 5.\")\n",
    "else:\n",
    "    print(\"You did not follow the instructions.\")"
   ]
  }
 ],
 "metadata": {
  "kernelspec": {
   "display_name": "Python 3",
   "language": "python",
   "name": "python3"
  },
  "language_info": {
   "codemirror_mode": {
    "name": "ipython",
    "version": 3
   },
   "file_extension": ".py",
   "mimetype": "text/x-python",
   "name": "python",
   "nbconvert_exporter": "python",
   "pygments_lexer": "ipython3",
   "version": "3.8.5"
  }
 },
 "nbformat": 4,
 "nbformat_minor": 4
}
